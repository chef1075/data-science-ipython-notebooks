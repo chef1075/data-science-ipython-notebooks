{
 "cells": [
  {
   "cell_type": "code",
   "execution_count": 1,
   "metadata": {
    "collapsed": true
   },
   "outputs": [],
   "source": [
    "%matplotlib inline\n",
    "import numpy as np\n",
    "import matplotlib.pyplot as plt"
   ]
  },
  {
   "cell_type": "markdown",
   "metadata": {},
   "source": [
    "Lets do a imple machine learning problem.\n",
    "\n",
    "ML is about building programs with tunable parameters (typically an array of floating point values)that are adjusted automatically so as to improve their behavior by adapting to previously seen data.\n",
    "\n",
    "Most ML applications it is [n_samples x n_features], and are either supervised or unsupervised."
   ]
  },
  {
   "cell_type": "code",
   "execution_count": 2,
   "metadata": {
    "collapsed": true
   },
   "outputs": [],
   "source": [
    "from sklearn.linear_model import LinearRegression"
   ]
  },
  {
   "cell_type": "markdown",
   "metadata": {},
   "source": [
    "Estimator parameters: All the parameters of an estimator can be set when it is instantiated.\n",
    "\n",
    "Lets start off with LinearRegression"
   ]
  },
  {
   "cell_type": "code",
   "execution_count": 3,
   "metadata": {
    "collapsed": false
   },
   "outputs": [
    {
     "name": "stdout",
     "output_type": "stream",
     "text": [
      "True\n"
     ]
    }
   ],
   "source": [
    "model = LinearRegression(normalize=True)\n",
    "print model.normalize"
   ]
  },
  {
   "cell_type": "code",
   "execution_count": 4,
   "metadata": {
    "collapsed": false
   },
   "outputs": [
    {
     "name": "stdout",
     "output_type": "stream",
     "text": [
      "LinearRegression(copy_X=True, fit_intercept=True, n_jobs=1, normalize=True)\n"
     ]
    }
   ],
   "source": [
    "print model"
   ]
  },
  {
   "cell_type": "markdown",
   "metadata": {},
   "source": [
    "Now let's look at estimated parameters are estimated from the data at hand."
   ]
  },
  {
   "cell_type": "code",
   "execution_count": 5,
   "metadata": {
    "collapsed": true
   },
   "outputs": [],
   "source": [
    "x = np.array([0, 1, 2])\n",
    "y = np.array([0, 1, 2])"
   ]
  },
  {
   "cell_type": "code",
   "execution_count": 8,
   "metadata": {
    "collapsed": false
   },
   "outputs": [
    {
     "data": {
      "text/plain": [
       "[<matplotlib.lines.Line2D at 0x107b81f90>]"
      ]
     },
     "execution_count": 8,
     "metadata": {},
     "output_type": "execute_result"
    },
    {
     "data": {
      "image/png": "[encoded data removed]",
      "text/plain": [
       "<matplotlib.figure.Figure at 0x107b812d0>"
      ]
     },
     "metadata": {},
     "output_type": "display_data"
    }
   ],
   "source": [
    "plt.plot(x, y, marker = '.')"
   ]
  },
  {
   "cell_type": "code",
   "execution_count": 12,
   "metadata": {
    "collapsed": false
   },
   "outputs": [
    {
     "name": "stdout",
     "output_type": "stream",
     "text": [
      "[[0]\n",
      " [1]\n",
      " [2]] \n",
      "[[0]\n",
      " [2]\n",
      " [4]]\n"
     ]
    }
   ],
   "source": [
    "# We're going to transpose the axis\n",
    "X = x[:, np.newaxis]\n",
    "x2 = np.array([0, 2, 4])\n",
    "X2 = x2[:, np.newaxis]\n",
    "print X, \"\\n\", X2"
   ]
  },
  {
   "cell_type": "code",
   "execution_count": 13,
   "metadata": {
    "collapsed": false
   },
   "outputs": [
    {
     "data": {
      "text/plain": [
       "array([ 0.5])"
      ]
     },
     "execution_count": 13,
     "metadata": {},
     "output_type": "execute_result"
    }
   ],
   "source": [
    "model.fit(X2, y) \n",
    "model.coef_"
   ]
  },
  {
   "cell_type": "markdown",
   "metadata": {},
   "source": [
    "Remember supervised learning can be split into two categories: regression and classification."
   ]
  },
  {
   "cell_type": "code",
   "execution_count": 26,
   "metadata": {
    "collapsed": false
   },
   "outputs": [
    {
     "name": "stdout",
     "output_type": "stream",
     "text": [
      "['target_names', 'data', 'target', 'DESCR', 'feature_names'] \n",
      "(150, 4) (150,) ['setosa' 'versicolor' 'virginica']\n"
     ]
    }
   ],
   "source": [
    "from sklearn import neighbors, datasets\n",
    "\n",
    "iris = datasets.load_iris()\n",
    "\n",
    "# This is the split between data and classifiers\n",
    "# The data and target are in floats, not actual strings.\n",
    "# This is how supervised learning happens.\n",
    "X, y = iris.data, iris.target\n",
    "\n",
    "print iris.keys(), '\\n', X.shape, y.shape, iris.target_names"
   ]
  },
  {
   "cell_type": "code",
   "execution_count": 27,
   "metadata": {
    "collapsed": false
   },
   "outputs": [
    {
     "name": "stdout",
     "output_type": "stream",
     "text": [
      "['virginica']\n"
     ]
    }
   ],
   "source": [
    "# KNeighborsClassifier() --> Classifier implementing the k-nearest neighbors vote.\n",
    "# It will plot the decision boundaries for each class.\n",
    "knn = neighbors.KNeighborsClassifier(n_neighbors = 1)\n",
    "knn.fit(X, y)\n",
    "\n",
    "# Now are can prdict certain classifers\n",
    "# What kind of iris has 3cm x 5cm speal and 4cm x 2cm petals\n",
    "print iris.target_names[knn.predict([[3, 5, 4, 2]])]"
   ]
  },
  {
   "cell_type": "code",
   "execution_count": 28,
   "metadata": {
    "collapsed": false
   },
   "outputs": [
    {
     "name": "stdout",
     "output_type": "stream",
     "text": [
      "['virginica']\n"
     ]
    }
   ],
   "source": [
    "print iris.target_names[knn.predict([[1, 2, 5, 0]])]"
   ]
  },
  {
   "cell_type": "code",
   "execution_count": 30,
   "metadata": {
    "collapsed": false
   },
   "outputs": [],
   "source": [
    "# But what do the actual decision boundaries look like?\n",
    "# This is a visualization of the knn, but just an image of it\n",
    "# not the acual code.\n",
    "\n",
    "# from fig_code import plot_iris_classification\n",
    "# plot_iris_classification(neighbors.KNeighborsClassifier, n_neighbors=3)"
   ]
  },
  {
   "cell_type": "code",
   "execution_count": 35,
   "metadata": {
    "collapsed": false
   },
   "outputs": [
    {
     "name": "stdout",
     "output_type": "stream",
     "text": [
      "['virginica'] ['setosa']\n"
     ]
    }
   ],
   "source": [
    "from sklearn.svm import SVC\n",
    "unknown_iris = [[3, 5, 4, 2]]\n",
    "unknown_iris2 = [[1, 6, 2, 5]]\n",
    "\n",
    "# Use SVC to train and predict the species of the unknown iris...\n",
    "\n",
    "# It could be any number really, but this is just the one that is used.\n",
    "\n",
    "print iris.target_names[knn.predict(unknown_iris)], iris.target_names[knn.predict(unknown_iris2)]"
   ]
  },
  {
   "cell_type": "markdown",
   "metadata": {},
   "source": [
    "Lets try a regression model."
   ]
  },
  {
   "cell_type": "code",
   "execution_count": 36,
   "metadata": {
    "collapsed": true
   },
   "outputs": [],
   "source": [
    "# Create some simple data\n",
    "np.random.seed(12)"
   ]
  },
  {
   "cell_type": "code",
   "execution_count": 38,
   "metadata": {
    "collapsed": false
   },
   "outputs": [
    {
     "name": "stdout",
     "output_type": "stream",
     "text": [
      "[[ 0.08427267]\n",
      " [ 0.7325207 ]\n",
      " [ 0.63619999]\n",
      " [ 0.02790779]\n",
      " [ 0.30017006]\n",
      " [ 0.22085252]\n",
      " [ 0.05501999]\n",
      " [ 0.52324607]\n",
      " [ 0.41636966]\n",
      " [ 0.04821875]\n",
      " [ 0.57240452]\n",
      " [ 0.80351665]\n",
      " [ 0.11360172]\n",
      " [ 0.27711721]\n",
      " [ 0.64167809]\n",
      " [ 0.49273731]\n",
      " [ 0.50655608]\n",
      " [ 0.46144026]\n",
      " [ 0.89474307]\n",
      " [ 0.60577769]] [ 1.10460529  6.31190634  4.90954274  2.03230837  3.06029788  1.94629398\n",
      "  2.21558281  3.4264008   4.19268436  2.50230047  3.63376434  5.08835605\n",
      "  2.89686553  3.0540711   2.3960488   4.50742309  2.35340947  2.37475913\n",
      "  4.57896123  4.32935524]\n"
     ]
    }
   ],
   "source": [
    "# 20 rows and 1 col\n",
    "X = np.random.random(size=(20,1))\n",
    "\n",
    "# Squeeze() --> Remove single-dimensional entries from the \n",
    "# shape of an array.\n",
    "\n",
    "# 20 col and 1 row\n",
    "y = 3 * X.squeeze() + 2 + np.random.normal(size = 20)\n",
    "\n",
    "print X, y"
   ]
  },
  {
   "cell_type": "code",
   "execution_count": 44,
   "metadata": {
    "collapsed": false
   },
   "outputs": [
    {
     "name": "stdout",
     "output_type": "stream",
     "text": [
      "LinearRegression(copy_X=True, fit_intercept=True, n_jobs=1, normalize=False) \n",
      "Model coefficient: 3.67803, and intercept: 1.79834\n"
     ]
    }
   ],
   "source": [
    "# Fit a linear regression to the data\n",
    "from sklearn.linear_model import LinearRegression\n",
    "\n",
    "model = LinearRegression(fit_intercept=True)\n",
    "# First you fit\n",
    "model.fit(X, y)\n",
    "\n",
    "print model, '\\n', \"Model coefficient: %.5f, and intercept: %.5f\" % (model.coef_, model.intercept_)"
   ]
  },
  {
   "cell_type": "code",
   "execution_count": 50,
   "metadata": {
    "collapsed": false
   },
   "outputs": [
    {
     "data": {
      "text/plain": [
       "<matplotlib.collections.PathCollection at 0x108422b10>"
      ]
     },
     "execution_count": 50,
     "metadata": {},
     "output_type": "execute_result"
    },
    {
     "data": {
      "image/png": "[encoded data removed]",
      "text/plain": [
       "<matplotlib.figure.Figure at 0x1082764d0>"
      ]
     },
     "metadata": {},
     "output_type": "display_data"
    }
   ],
   "source": [
    "# Plot the data and the model prediction\n",
    "\n",
    "# Create random numbers and transpose them.\n",
    "X_test = np.linspace(0, 1, 100)[:, np.newaxis]\n",
    "\n",
    "# Then you predict, based on the \"model\" you created in the previous cell\n",
    "y_test = model.predict(X_test)\n",
    "\n",
    "import pylab as plt\n",
    "\n",
    "plt.scatter(X, y)"
   ]
  },
  {
   "cell_type": "code",
   "execution_count": 55,
   "metadata": {
    "collapsed": false
   },
   "outputs": [
    {
     "data": {
      "image/png": "[encoded data removed]",
      "text/plain": [
       "<matplotlib.figure.Figure at 0x108c4e210>"
      ]
     },
     "metadata": {},
     "output_type": "display_data"
    }
   ],
   "source": [
    "plt.plot(X.squeeze(), y, '.')\n",
    "\n",
    "# This is the regression line\n",
    "plt.plot(X_test.squeeze(), y_test);"
   ]
  },
  {
   "cell_type": "markdown",
   "metadata": {},
   "source": [
    "Lets take a look at unsupervised learning.\n",
    "\n",
    "Here the data has not labels and we are interested in finding similarities between the objects in question.\n",
    "\n",
    "This is a way to discovering labels from the data.\n",
    "\n",
    "UL comprises tasks such as dimensionality reduction, clustering, and density estimation. We can even use UL to determine combinations of the measurements which best display the structure of the data.\n",
    "\n",
    "You can use UL discoveries to then run this on SL methods."
   ]
  },
  {
   "cell_type": "code",
   "execution_count": 69,
   "metadata": {
    "collapsed": false
   },
   "outputs": [
    {
     "name": "stdout",
     "output_type": "stream",
     "text": [
      "Reduced dataset shape: (150, 2)\n"
     ]
    }
   ],
   "source": [
    "X, y = iris.data, iris.target\n",
    "\n",
    "# This will form the basis for the UL\n",
    "from sklearn.decomposition import PCA\n",
    "\n",
    "# Where going to extract n combinations of variables to visualize this.\n",
    "# We're only looking at X, and not the actual features\n",
    "num_components = 2\n",
    "pca = PCA(n_components = components)\n",
    "pca.fit(X)\n",
    "X_reduced = pca.transform(X)\n",
    "print \"Reduced dataset shape:\", X_reduced.shape"
   ]
  },
  {
   "cell_type": "code",
   "execution_count": 66,
   "metadata": {
    "collapsed": false
   },
   "outputs": [
    {
     "data": {
      "image/png": "[encoded data removed]",
      "text/plain": [
       "<matplotlib.figure.Figure at 0x108d86590>"
      ]
     },
     "metadata": {},
     "output_type": "display_data"
    }
   ],
   "source": [
    "plt.scatter(X_reduced[:, 0], X_reduced[:, 1], c=y);"
   ]
  },
  {
   "cell_type": "code",
   "execution_count": 71,
   "metadata": {
    "collapsed": false
   },
   "outputs": [
    {
     "data": {
      "text/plain": [
       "array([[ 0.36158968, -0.08226889,  0.85657211,  0.35884393],\n",
       "       [-0.65653988, -0.72971237,  0.1757674 ,  0.07470647]])"
      ]
     },
     "execution_count": 71,
     "metadata": {},
     "output_type": "execute_result"
    }
   ],
   "source": [
    "pca.components_"
   ]
  },
  {
   "cell_type": "code",
   "execution_count": 70,
   "metadata": {
    "collapsed": false
   },
   "outputs": [
    {
     "name": "stdout",
     "output_type": "stream",
     "text": [
      "Meaning of the 2 components:\n",
      "0.36 x sepal length (cm) + -0.08 x sepal width (cm) + 0.86 x petal length (cm) + 0.36 x petal width (cm)\n",
      "-0.66 x sepal length (cm) + -0.73 x sepal width (cm) + 0.18 x petal length (cm) + 0.07 x petal width (cm)\n"
     ]
    }
   ],
   "source": [
    "# But what does that mean?\n",
    "\n",
    "print \"Meaning of the %d components:\" % num_components\n",
    "for component in pca.components_:\n",
    "    print \" + \".join(\"%.2f x %s\" % (value, name)\n",
    "                     for value, name in zip(component, iris.feature_names))"
   ]
  },
  {
   "cell_type": "markdown",
   "metadata": {},
   "source": [
    "Now we should look at clustering"
   ]
  },
  {
   "cell_type": "code",
   "execution_count": null,
   "metadata": {
    "collapsed": true
   },
   "outputs": [],
   "source": []
  }
 ],
 "metadata": {
  "kernelspec": {
   "display_name": "Python 2",
   "language": "python",
   "name": "python2"
  },
  "language_info": {
   "codemirror_mode": {
    "name": "ipython",
    "version": 2
   },
   "file_extension": ".py",
   "mimetype": "text/x-python",
   "name": "python",
   "nbconvert_exporter": "python",
   "pygments_lexer": "ipython2",
   "version": "2.7.11"
  }
 },
 "nbformat": 4,
 "nbformat_minor": 0
}
